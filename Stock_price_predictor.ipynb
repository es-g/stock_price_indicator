{
 "cells": [
  {
   "cell_type": "code",
   "execution_count": null,
   "metadata": {},
   "outputs": [],
   "source": [
    "import yfinance as yf\n",
    "import pandas as pd\n",
    "import numpy as np\n",
    "import matplotlib.pyplot as plt\n",
    "import seaborn as sns\n",
    "import scipy\n",
    "import technical_indicator as ti\n",
    "import plotting as pl\n",
    "import walk_forward as wf\n",
    "\n",
    "from finta import TA\n",
    "import pandas_ta as pta\n",
    "\n",
    "from sklearn.model_selection import train_test_split\n",
    "from sklearn.neighbors import KNeighborsClassifier\n",
    "from sklearn.metrics import confusion_matrix, classification_report, accuracy_score, r2_score\n",
    "from sklearn.ensemble import RandomForestClassifier\n",
    "\n",
    "import xgboost as xgb\n",
    "from xgboost.sklearn import XGBClassifier\n",
    "import datetime as dt"
   ]
  },
  {
   "cell_type": "code",
   "execution_count": null,
   "metadata": {},
   "outputs": [],
   "source": [
    "tickers = ['AAPL', 'MSFT', 'AMZN']\n",
    "df = yf.download(tickers, period='5y', auto_adjust=True, group_by='ticker')\n",
    "df.head(200)"
   ]
  },
  {
   "cell_type": "code",
   "execution_count": null,
   "metadata": {
    "scrolled": false
   },
   "outputs": [],
   "source": [
    "# Plot candle chart\n",
    "pl.plot_candle_chart(df)"
   ]
  },
  {
   "cell_type": "code",
   "execution_count": null,
   "metadata": {},
   "outputs": [],
   "source": [
    "for period in [5, 10, 20, 50, 100, 200]:\n",
    "    df['SMA_{}'.format(str(period))] = ti.simple_ma(df['Adj Close'], period=period)\n",
    "    df['EMA_{}'.format(str(period))] = ti.exp_ma(df['Adj Close'], period=period)\n",
    "    \n",
    "\n",
    "plt.figure(figsize=(20,10))\n",
    "plt.plot(df['EMA_50'], label='50-day EMA')\n",
    "plt.plot(df['EMA_200'], label='200-day EMA')\n",
    "plt.plot(df['Adj Close'], label='Adj Close', linewidth=1)\n",
    "plt.legend()\n",
    "plt.show()"
   ]
  },
  {
   "cell_type": "code",
   "execution_count": null,
   "metadata": {},
   "outputs": [],
   "source": [
    "df_train = df[:int(df.shape[0]*0.7)]\n",
    "df_test = df[int(df.shape[0]*0.7):]\n",
    "\n",
    "# y_train = y[:int(X.shape[0]*0.7)]\n",
    "# y_test = y[int(X.shape[0]*0.7):]\n",
    "\n"
   ]
  },
  {
   "cell_type": "markdown",
   "metadata": {},
   "source": [
    "# Feature Engineering"
   ]
  },
  {
   "cell_type": "markdown",
   "metadata": {},
   "source": [
    "### Features to be considered:\n",
    "`1`. **Simple Moving Average**\n",
    "\n",
    "\n",
    "\n",
    "`2`. Exponential Moving Average\n",
    "\n",
    "`3`. Bollinger Bands\n",
    "\n",
    "`4`. Daily return\n",
    "\n",
    "`5`. Log volume\n",
    "\n",
    "`6`. Rate of change\n",
    "\n",
    "`7`. Price difference\n",
    "\n",
    "`8`. Z-score\n",
    "\n",
    "`9`. Relative Strengh Index (RSI)\n",
    "Measures the magnitude of recent price changes. Commonly used in technical analysis to evaluate overbought or oversold conditions in the price of a stock.\n",
    "This indicator was developed by J.Welles Wilder Jr.\n",
    "According to this indicator, a stock is considered overbought when the RSI is above 70% and oversold when it is below 30%.\n",
    "\n",
    "`10`. Moving Average Convergence Divergence (MACD)\n",
    "MACD is a trend-following momentum indicator that demonstrates the relationship between two moving averages - long-term and short-term. MACD is calculated as \n",
    "\n",
    "MACD = EMA(26-period) - EMA(12-period)\n",
    "\n",
    "MACD is often used together with Relative Strength (RSI) to show a more complete picture of a market.\n",
    "\n",
    "The signal line is a 9-day EMA of the MACD Line. As a moving average of the indicator, it trails the MACD and makes it easier to spot MACD turns.\n",
    "\n",
    "`11`. Stochastic Oscillator\n",
    "\n",
    "The Stochastic Oscillator is a momentum indicator that compares a specific closing price of a security to its high-low range over a certain period of time. First developed in the 1950s, it is a popular momentum indicator to identify overbought and oversold conditions of an asset. \n",
    "\t  \n",
    "`12`. Accumulation/Distribution Indicator (A/D)\n",
    "\n",
    "`13`. Average True Range(ATR)\n",
    "ATR is a market volatility indicator. Introduced by market technician J.Welles Wilder Jr., this indicator measures market volatility by decomposing the complete range of a security price for that period.\n",
    "\n",
    "`14`. Vortex Indicator\n",
    "The Vortex Indicator consists of two oscillating lines: one to capture the upward trend movement and the other one to identify the downward price movement.\n",
    "\n",
    "`15`. Ease of Movement\n",
    "\n",
    "`16`. Commodity Channel Index (CCI)\n",
    "A momentum-based oscillator used to identify an asset that is reaching a condition of being oversold or overbought.\n",
    "\n",
    "`17`. On-Balance Volume (OBV)\n",
    "A momentum-based indicator using volume flow to predict changes in asset price. First developed by Joseph Granville, he believed that the volume was the major force behind markets. As explained in his 1963 book Granville's New Key to Stock Market Profits, when volume increases strongly without a signficant change in the price of an asset, the price will eventually jump upwards or downwards. Granville theorised that volume precedes price. \n",
    "\n",
    "__How to interpret.__\n",
    "\n",
    "We should expect prices to increase if OBV is rising while prices are either flat or moving down, and vice versa."
   ]
  },
  {
   "cell_type": "markdown",
   "metadata": {},
   "source": [
    "# References\n",
    "\n",
    "https://www.investopedia.com/terms/r/rsi.asp\n",
    "https://www.investopedia.com/terms/m/macd.asp\n",
    "https://altfins.com/knowledge-base/macd-line-and-macd-signal-line/\n",
    "https://www.investopedia.com/terms/s/stochasticoscillator.asp\n",
    "https://www.investopedia.com/terms/a/accumulationdistribution.asp\n",
    "https://www.investopedia.com/terms/a/atr.asp\n",
    "https://www.investopedia.com/articles/active-trading/072115/understand-vortex-indicator-trading-strategies.asp\n",
    "https://www.investopedia.com/terms/e/easeofmovement.asp\n",
    "https://www.investopedia.com/terms/c/commoditychannelindex.asp\n",
    "https://www.investopedia.com/terms/o/onbalancevolume.asp\n"
   ]
  },
  {
   "cell_type": "markdown",
   "metadata": {},
   "source": [
    "The 5-, 10-, 20- and 50-day moving averages are frequently utilized to identify near-term trend changes."
   ]
  },
  {
   "cell_type": "code",
   "execution_count": null,
   "metadata": {},
   "outputs": [],
   "source": [
    "feature_names = ['DAILY_RETURN', 'DIFF', 'VOLUME_LOG', 'f05', 'f06']\n",
    "col_names = pd.MultiIndex.from_product([tickers, feature_names])\n",
    "features = pd.DataFrame(index=df.index, columns=col_names).sort_index()\n",
    "\n",
    "for ticker in tickers:\n",
    "    features.loc[:, (ticker, 'DAILY_RETURN')] = ti.daily_return(df[ticker]['Close'])\n",
    "    features.loc[:, (ticker, 'DIFF')] = ti.price_diff(df[ticker]['Close'])\n",
    "    features.loc[:, (ticker, 'VOLUME_LOG')] = df[ticker]['Volume'].apply(np.log)\n",
    "    features.loc[:, (ticker, 'DIFF')] = ti.price_diff(df[ticker]['Close'])\n",
    "    \n",
    "    # 5-day moving average of volume\n",
    "    features.loc[:, (ticker, 'f05')] = ti.simple_ma(features[ticker]['VOLUME_LOG'], period=5)\n",
    "    \n",
    "    # Close vs 50-day EMA \n",
    "    features.loc[:, (ticker, 'f06')] = df[ticker]['Close'] / ti.exp_ma(df[ticker]['Close'], period=50) - 1\n",
    "    \n",
    "outcome_names = ['open_1', 'close_1', 'close_15']\n",
    "col_names_out = pd.MultiIndex.from_product([tickers, outcome_names])\n",
    "outcomes = pd.DataFrame(index=df.index, columns=col_names_out).sort_index()\n",
    "\n",
    "for ticker in tickers:\n",
    "    # next day's opening change\n",
    "    outcomes.loc[:, (ticker, 'open_1')] = df[ticker]['Open'].shift(-1) / df[ticker]['Close'].shift(0) - 1\n",
    "    \n",
    "    # Change in closing price next day\n",
    "    outcomes.loc[:, (ticker, 'close_1')] = df[ticker]['Close'].pct_change(-1)\n",
    "    \n",
    "    # Change in closing price in the next 15 days\n",
    "    outcomes.loc[:, (ticker, 'close_15')] = df[ticker]['Close'].pct_change(-15)\n"
   ]
  },
  {
   "cell_type": "code",
   "execution_count": null,
   "metadata": {},
   "outputs": [],
   "source": [
    "from sklearn.linear_model import LinearRegression\n",
    "\n",
    "\n",
    "X = features['AAPL']\n",
    "Y = outcomes['AAPL']['close_1']\n",
    "\n",
    "# Get indices with NaN values\n",
    "feat_zero_ind = features['AAPL'][features['AAPL'].isnull().any(1)].index\n",
    "out_zero_ind = outcomes['AAPL'][outcomes['AAPL'].isnull().any(1)].index\n",
    "zero_ind = np.concatenate([feat_zero_ind, out_zero_ind])\n",
    "\n",
    "# Drop indices with NaN values\n",
    "X, Y = X.drop(zero_ind), Y.drop(zero_ind)\n",
    "\n",
    "X_train, X_test, y_train, y_test = train_test_split(X, Y, test_size=.2, shuffle=False)\n",
    "\n",
    "model = LinearRegression()\n",
    "model.fit(X_train, y_train)\n",
    "\n",
    "pred = model.predict(X_test)\n",
    "\n",
    "print('RSQ in sample: '+str(model.score(X=X_train,y=y_train)))\n",
    "print('RSQ out of sample: '+str(model.score(X=X_test,y=y_test)))\n",
    "print('Regression Coefficients: '+str(model.coef_))\n"
   ]
  },
  {
   "cell_type": "code",
   "execution_count": null,
   "metadata": {},
   "outputs": [],
   "source": [
    "plt.plot(y_test, label='Actual')\n",
    "plt.plot(X_test.index, pred, label='Predicted')\n",
    "plt.plot(X_test.index, X_test['DAILY_RETURN'], label='Daily return')\n",
    "plt.legend()\n",
    "plt.show()"
   ]
  },
  {
   "cell_type": "markdown",
   "metadata": {},
   "source": [
    "## Feature Engineering - Technical Indicators"
   ]
  },
  {
   "cell_type": "code",
   "execution_count": null,
   "metadata": {},
   "outputs": [],
   "source": [
    "# Daily return in percentage\n",
    "df['DAILY_RETURN'] = ti.daily_return(df['Close'])\n",
    "\n",
    "# Rate of change in volume\n",
    "df['ROC'] = ti.rate_of_change(df['Volume'])\n",
    "\n",
    "# Price difference\n",
    "df['DIFF'] = ti.price_diff(df['Close'])\n",
    "\n",
    "# Bollinger Bands\n",
    "df[['BB_MID', 'BB_UPPER', 'BB_LOWER']] = ti.bollinger_bands(df['Close'])\n",
    "\n",
    "# Relative Strengh Index (RSI)\n",
    "df['RSI'] = ti.RSI(df['Close'])\n",
    "\n",
    "# Moving Average Convergence Divergence (MACD)\n",
    "df[['MACD', 'MACD_signal']] = ti.MACD(df['Close'])\n",
    "\n",
    "# Stochastic Oscillator\n",
    "df['STOCH'] = ti.stochastic_oscillator(df['Close'], df['High'], df['Low'])\n",
    "\n",
    "# Accumulation/Distribution\n",
    "df['ADI'] = ti.accumulation_distribution(df['Close'], df['Low'], df['High'], df['Volume'])\n",
    "\n",
    "# Average True Range\n",
    "df['ATR'] = ti.average_true_range(df['High'], df['Low'], df['Close'])\n",
    "\n",
    "# Vortex\n",
    "df[['VI_up', 'VI_down']] = ti.vortex(df['High'], df['Low'], df['Close'])\n",
    "\n",
    "# Ease of Movement\n",
    "df['EMV'] = ti.ease_of_movement(df['High'], df['Low'], df['Volume'])\n",
    "\n",
    "# Commodity Channel Index\n",
    "df['CCI'] = ti.commodity_channel(df['High'], df['Low'], df['Close'])\n",
    "\n",
    "# On-Balance Volume\n",
    "df['OBV'] = ti.on_balance_volume(df['Close'], df['Volume'])"
   ]
  },
  {
   "cell_type": "markdown",
   "metadata": {},
   "source": [
    "Visualise daily return, rate of change and z-scores"
   ]
  },
  {
   "cell_type": "code",
   "execution_count": null,
   "metadata": {},
   "outputs": [],
   "source": [
    "plt.figure(figsize=(20,10))\n",
    "\n",
    "sns.histplot(df['DAILY_RETURN'], kde=True)\n",
    "plt.show()\n",
    "\n",
    "sns.histplot(df['ROC'], kde=True)\n",
    "plt.show()\n",
    "\n",
    "\n"
   ]
  },
  {
   "cell_type": "markdown",
   "metadata": {},
   "source": [
    "## Stock movement\n",
    "Label column:\n",
    "\n",
    "1 if daily return is > threshold\n",
    "\n",
    "-1 if daily return is < threshold\n"
   ]
  },
  {
   "cell_type": "code",
   "execution_count": null,
   "metadata": {},
   "outputs": [],
   "source": [
    "threshold = 0\n",
    "\n",
    "df.loc[:, 'BUY_SIGNAL'] = 0\n",
    "df.loc[:, 'SELL_SIGNAL'] = 0\n",
    "\n",
    "df.loc[df['DAILY_RETURN'].shift(-1) > threshold, 'BUY_SIGNAL'] = 1\n",
    "df.loc[df['DAILY_RETURN'].shift(-1) < -threshold, 'SELL_SIGNAL'] = 1\n",
    "\n",
    "# Drop NaN values\n",
    "df = df.dropna()"
   ]
  },
  {
   "cell_type": "code",
   "execution_count": null,
   "metadata": {},
   "outputs": [],
   "source": [
    "plt.figure(figsize=(20,15))\n",
    "\n",
    "plt.plot(X_train.index, X_train['DAILY_RETURN'], linewidth=1, label='Train data')\n",
    "plt.plot(X_test.index, X_test['DAILY_RETURN'], linewidth=1, label='Data to predict')\n",
    "plt.axhline(y=.0025, linewidth=1, color='g', linestyle='--', label='Threshold for buy signal')\n",
    "plt.axhline(y=-.0025, linewidth=1, color='b', linestyle='--', label='Threshold for sell signal')\n",
    "\n",
    "plt.legend()\n",
    "plt.show()\n"
   ]
  },
  {
   "cell_type": "code",
   "execution_count": null,
   "metadata": {},
   "outputs": [],
   "source": [
    "## Plot bollinger bands\n",
    "\n",
    "plt.style.use('fivethirtyeight')\n",
    "\n",
    "# Bollinger bands\n",
    "plt.figure(figsize=(20,15))\n",
    "plt.plot(df['Adj Close'], label='Adj Close', linewidth=1)\n",
    "plt.fill_between(df['Adj Close'].index, df['BB_UPPER'], df['BB_LOWER'], alpha=.2)\n",
    "plt.plot(df['BB_UPPER'], label='Upper band', linestyle='dashed', linewidth=2)\n",
    "plt.plot(df['BB_LOWER'], label='Lower band', linestyle='dashed', linewidth=2)\n",
    "plt.plot(df['BB_MID'], label='20-day simple moving average', linewidth=2)\n",
    "plt.title('Bollinger bands')\n",
    "plt.legend(fontsize=15)\n",
    "\n",
    "plt.show()\n"
   ]
  },
  {
   "cell_type": "code",
   "execution_count": null,
   "metadata": {},
   "outputs": [],
   "source": [
    "# Plotting MACD\n",
    "\n",
    "plt.style.use('ggplot')\n",
    "\n",
    "fig = plt.figure(facecolor = 'white', figsize = (20,10))\n",
    "\n",
    "ax0 = plt.subplot2grid((12,8), (1,0), rowspan=6, colspan=4)\n",
    "ax0.plot(df[['Adj Close','BB_MID']], linewidth=2)\n",
    "ax0.set_facecolor('ghostwhite')\n",
    "ax0.legend(['Adj Close','SMA'],ncol=3, loc = 'upper left', fontsize = 12)\n",
    "plt.title(\"SPY Adj Close and MACD\", fontsize = 20)\n",
    "\n",
    "ax1 = plt.subplot2grid((12,8), (7,0), rowspan=3, colspan=4, sharex = ax0)\n",
    "ax1.plot(df[['MACD', 'MACD_signal']], linewidth=1)\n",
    "ax1.legend(['MACD', 'MACD_signal'], ncol=3, loc = 'lower left', fontsize = 12)\n",
    "ax1.set_facecolor('silver')\n",
    "plt.subplots_adjust(left=.09, bottom=.09, right=1, top=.95, wspace=.20, hspace=0)\n",
    "plt.show()"
   ]
  },
  {
   "cell_type": "code",
   "execution_count": null,
   "metadata": {},
   "outputs": [],
   "source": [
    "# Plotting OBV\n",
    "\n",
    "fig = plt.figure(facecolor = 'white', figsize = (25,15))\n",
    "\n",
    "ax0 = plt.subplot2grid((12,8), (1,0), rowspan=6, colspan=4)\n",
    "ax0.plot(df[['Adj Close','BB_MID']], linewidth=2)\n",
    "ax0.set_facecolor('ghostwhite')\n",
    "ax0.legend(['Adj Close','SMA'],ncol=3, loc = 'upper left', fontsize = 12)\n",
    "plt.title(\"SPY Adj Close and OBV\", fontsize = 15)\n",
    "\n",
    "ax1 = plt.subplot2grid((12,8), (7,0), rowspan=3, colspan=4, sharex = ax0)\n",
    "ax1.plot(df['OBV'], linewidth=1)\n",
    "ax1.legend(['OBV'], ncol=3, loc = 'upper left', fontsize = 12)\n",
    "ax1.set_facecolor('silver')\n",
    "plt.subplots_adjust(left=.09, bottom=.09, right=1, top=.95, wspace=.20, hspace=0)\n",
    "plt.show()"
   ]
  },
  {
   "cell_type": "code",
   "execution_count": null,
   "metadata": {},
   "outputs": [],
   "source": [
    "# Add moving averages for multiple periods\n",
    "for period in [5, 10, 20, 50, 100, 200]:\n",
    "    df['SMA{}'.format(str(period))] = ti.simple_ma(df['Adj Close'], length=period)\n",
    "    df['EMA{}'.format(str(period))] = ti.exp_ma(df['Adj Close'], length=period)\n",
    "    "
   ]
  }
 ],
 "metadata": {
  "kernelspec": {
   "display_name": "Python 3",
   "language": "python",
   "name": "python3"
  },
  "language_info": {
   "codemirror_mode": {
    "name": "ipython",
    "version": 3
   },
   "file_extension": ".py",
   "mimetype": "text/x-python",
   "name": "python",
   "nbconvert_exporter": "python",
   "pygments_lexer": "ipython3",
   "version": "3.8.5"
  }
 },
 "nbformat": 4,
 "nbformat_minor": 4
}
