{
 "cells": [
  {
   "cell_type": "code",
   "execution_count": 6,
   "metadata": {},
   "outputs": [],
   "source": [
    "import yfinance as yf\n",
    "import pandas as pd\n",
    "import numpy as np\n",
    "import matplotlib.pyplot as plt\n",
    "import seaborn as sns\n",
    "import scipy\n",
    "import technical_indicator as ti\n",
    "import plotting as pl\n",
    "\n",
    "from finta import TA\n",
    "import pandas_ta as pta\n",
    "\n",
    "from sklearn.model_selection import train_test_split\n",
    "from sklearn.neighbors import KNeighborsClassifier\n",
    "from sklearn.metrics import confusion_matrix, classification_report, accuracy_score\n",
    "from sklearn.ensemble import RandomForestClassifier\n",
    "\n",
    "import xgboost as xgb\n",
    "from xgboost.sklearn import XGBClassifier\n",
    "import datetime as dt"
   ]
  },
  {
   "cell_type": "code",
   "execution_count": 2,
   "metadata": {},
   "outputs": [
    {
     "name": "stdout",
     "output_type": "stream",
     "text": [
      "[*********************100%***********************]  1 of 1 completed\n",
      "[*********************100%***********************]  1 of 1 completed\n"
     ]
    },
    {
     "data": {
      "text/html": [
       "<div>\n",
       "<style scoped>\n",
       "    .dataframe tbody tr th:only-of-type {\n",
       "        vertical-align: middle;\n",
       "    }\n",
       "\n",
       "    .dataframe tbody tr th {\n",
       "        vertical-align: top;\n",
       "    }\n",
       "\n",
       "    .dataframe thead th {\n",
       "        text-align: right;\n",
       "    }\n",
       "</style>\n",
       "<table border=\"1\" class=\"dataframe\">\n",
       "  <thead>\n",
       "    <tr style=\"text-align: right;\">\n",
       "      <th></th>\n",
       "      <th>Open</th>\n",
       "      <th>High</th>\n",
       "      <th>Low</th>\n",
       "      <th>Close</th>\n",
       "      <th>Adj Close</th>\n",
       "      <th>Volume</th>\n",
       "    </tr>\n",
       "    <tr>\n",
       "      <th>Date</th>\n",
       "      <th></th>\n",
       "      <th></th>\n",
       "      <th></th>\n",
       "      <th></th>\n",
       "      <th></th>\n",
       "      <th></th>\n",
       "    </tr>\n",
       "  </thead>\n",
       "  <tbody>\n",
       "    <tr>\n",
       "      <th>2016-03-17</th>\n",
       "      <td>26.379999</td>\n",
       "      <td>26.617500</td>\n",
       "      <td>26.240000</td>\n",
       "      <td>26.450001</td>\n",
       "      <td>24.601379</td>\n",
       "      <td>137682800</td>\n",
       "    </tr>\n",
       "    <tr>\n",
       "      <th>2016-03-18</th>\n",
       "      <td>26.584999</td>\n",
       "      <td>26.625000</td>\n",
       "      <td>26.297501</td>\n",
       "      <td>26.480000</td>\n",
       "      <td>24.629284</td>\n",
       "      <td>176820800</td>\n",
       "    </tr>\n",
       "    <tr>\n",
       "      <th>2016-03-21</th>\n",
       "      <td>26.482500</td>\n",
       "      <td>26.912500</td>\n",
       "      <td>26.285000</td>\n",
       "      <td>26.477501</td>\n",
       "      <td>24.626959</td>\n",
       "      <td>142010800</td>\n",
       "    </tr>\n",
       "    <tr>\n",
       "      <th>2016-03-22</th>\n",
       "      <td>26.312500</td>\n",
       "      <td>26.822500</td>\n",
       "      <td>26.302500</td>\n",
       "      <td>26.680000</td>\n",
       "      <td>24.815302</td>\n",
       "      <td>129777600</td>\n",
       "    </tr>\n",
       "    <tr>\n",
       "      <th>2016-03-23</th>\n",
       "      <td>26.620001</td>\n",
       "      <td>26.767500</td>\n",
       "      <td>26.475000</td>\n",
       "      <td>26.532499</td>\n",
       "      <td>24.678110</td>\n",
       "      <td>102814000</td>\n",
       "    </tr>\n",
       "    <tr>\n",
       "      <th>...</th>\n",
       "      <td>...</td>\n",
       "      <td>...</td>\n",
       "      <td>...</td>\n",
       "      <td>...</td>\n",
       "      <td>...</td>\n",
       "      <td>...</td>\n",
       "    </tr>\n",
       "    <tr>\n",
       "      <th>2016-12-22</th>\n",
       "      <td>29.087500</td>\n",
       "      <td>29.127501</td>\n",
       "      <td>28.910000</td>\n",
       "      <td>29.072500</td>\n",
       "      <td>27.493036</td>\n",
       "      <td>104343600</td>\n",
       "    </tr>\n",
       "    <tr>\n",
       "      <th>2016-12-23</th>\n",
       "      <td>28.897499</td>\n",
       "      <td>29.129999</td>\n",
       "      <td>28.897499</td>\n",
       "      <td>29.129999</td>\n",
       "      <td>27.547411</td>\n",
       "      <td>56998000</td>\n",
       "    </tr>\n",
       "    <tr>\n",
       "      <th>2016-12-27</th>\n",
       "      <td>29.129999</td>\n",
       "      <td>29.450001</td>\n",
       "      <td>29.122499</td>\n",
       "      <td>29.315001</td>\n",
       "      <td>27.722363</td>\n",
       "      <td>73187600</td>\n",
       "    </tr>\n",
       "    <tr>\n",
       "      <th>2016-12-28</th>\n",
       "      <td>29.379999</td>\n",
       "      <td>29.504999</td>\n",
       "      <td>29.049999</td>\n",
       "      <td>29.190001</td>\n",
       "      <td>27.604153</td>\n",
       "      <td>83623600</td>\n",
       "    </tr>\n",
       "    <tr>\n",
       "      <th>2016-12-29</th>\n",
       "      <td>29.112499</td>\n",
       "      <td>29.277500</td>\n",
       "      <td>29.100000</td>\n",
       "      <td>29.182501</td>\n",
       "      <td>27.597061</td>\n",
       "      <td>60158000</td>\n",
       "    </tr>\n",
       "  </tbody>\n",
       "</table>\n",
       "<p>200 rows × 6 columns</p>\n",
       "</div>"
      ],
      "text/plain": [
       "                 Open       High        Low      Close  Adj Close     Volume\n",
       "Date                                                                        \n",
       "2016-03-17  26.379999  26.617500  26.240000  26.450001  24.601379  137682800\n",
       "2016-03-18  26.584999  26.625000  26.297501  26.480000  24.629284  176820800\n",
       "2016-03-21  26.482500  26.912500  26.285000  26.477501  24.626959  142010800\n",
       "2016-03-22  26.312500  26.822500  26.302500  26.680000  24.815302  129777600\n",
       "2016-03-23  26.620001  26.767500  26.475000  26.532499  24.678110  102814000\n",
       "...               ...        ...        ...        ...        ...        ...\n",
       "2016-12-22  29.087500  29.127501  28.910000  29.072500  27.493036  104343600\n",
       "2016-12-23  28.897499  29.129999  28.897499  29.129999  27.547411   56998000\n",
       "2016-12-27  29.129999  29.450001  29.122499  29.315001  27.722363   73187600\n",
       "2016-12-28  29.379999  29.504999  29.049999  29.190001  27.604153   83623600\n",
       "2016-12-29  29.112499  29.277500  29.100000  29.182501  27.597061   60158000\n",
       "\n",
       "[200 rows x 6 columns]"
      ]
     },
     "execution_count": 2,
     "metadata": {},
     "output_type": "execute_result"
    }
   ],
   "source": [
    "# ticker = yf.Ticker(\"AAPL\")\n",
    "# df_apple = ticker.history(period='5y')\n",
    "df = yf.download('AAPL',period='5y')\n",
    "df2 = yf.download(tickers='SPY', period='5y', auto_adjust=True, actions=True)\n",
    "df.head(200)"
   ]
  },
  {
   "cell_type": "code",
   "execution_count": null,
   "metadata": {
    "scrolled": false
   },
   "outputs": [],
   "source": [
    "# Plot candle chart\n",
    "pl.plot_candle_chart(df)"
   ]
  },
  {
   "cell_type": "code",
   "execution_count": null,
   "metadata": {},
   "outputs": [],
   "source": [
    "for period in [5, 10, 20, 50, 100, 200]:\n",
    "    df['SMA_{}'.format(str(period))] = ti.simple_ma(df['Adj Close'], period=period)\n",
    "    df['EMA_{}'.format(str(period))] = ti.exp_ma(df['Adj Close'], period=period)\n",
    "    \n",
    "\n",
    "plt.figure(figsize=(20,10))\n",
    "plt.plot(df['EMA_50'], label='50-day EMA')\n",
    "plt.plot(df['EMA_200'], label='200-day EMA')\n",
    "plt.plot(df['Adj Close'], label='Adj Close', linewidth=1)\n",
    "plt.legend()\n",
    "plt.show()"
   ]
  },
  {
   "cell_type": "code",
   "execution_count": null,
   "metadata": {},
   "outputs": [],
   "source": [
    "df_train = df[:int(df.shape[0]*0.7)]\n",
    "df_test = df[int(df.shape[0]*0.7):]\n",
    "\n",
    "# y_train = y[:int(X.shape[0]*0.7)]\n",
    "# y_test = y[int(X.shape[0]*0.7):]\n",
    "\n"
   ]
  },
  {
   "cell_type": "markdown",
   "metadata": {},
   "source": [
    "# Feature Engineering"
   ]
  },
  {
   "cell_type": "markdown",
   "metadata": {},
   "source": [
    "### Features to be considered:\n",
    "`1`. **Simple Moving Average**\n",
    "\n",
    "\n",
    "\n",
    "`2`. Exponential Moving Average\n",
    "\n",
    "`3`. Bollinger Bands\n",
    "\n",
    "`4`. Daily return\n",
    "\n",
    "`5`. Log volume\n",
    "\n",
    "`6`. Rate of change\n",
    "\n",
    "`7`. Price difference\n",
    "\n",
    "`8`. Z-score\n",
    "\n",
    "`9`. Relative Strengh Index (RSI)\n",
    "Measures the magnitude of recent price changes. Commonly used in technical analysis to evaluate overbought or oversold conditions in the price of a stock.\n",
    "This indicator was developed by J.Welles Wilder Jr.\n",
    "According to this indicator, a stock is considered overbought when the RSI is above 70% and oversold when it is below 30%.\n",
    "\n",
    "`10`. Moving Average Convergence Divergence (MACD)\n",
    "MACD is a trend-following momentum indicator that demonstrates the relationship between two moving averages - long-term and short-term. MACD is calculated as \n",
    "\n",
    "MACD = EMA(26-period) - EMA(12-period)\n",
    "\n",
    "MACD is often used together with Relative Strength (RSI) to show a more complete picture of a market.\n",
    "\n",
    "The signal line is a 9-day EMA of the MACD Line. As a moving average of the indicator, it trails the MACD and makes it easier to spot MACD turns.\n",
    "\n",
    "`11`. Stochastic Oscillator\n",
    "\n",
    "The Stochastic Oscillator is a momentum indicator that compares a specific closing price of a security to its high-low range over a certain period of time. First developed in the 1950s, it is a popular momentum indicator to identify overbought and oversold conditions of an asset. \n",
    "\t  \n",
    "`12`. Accumulation/Distribution Indicator (A/D)\n",
    "\n",
    "`13`. Average True Range(ATR)\n",
    "ATR is a market volatility indicator. Introduced by market technician J.Welles Wilder Jr., this indicator measures market volatility by decomposing the complete range of a security price for that period.\n",
    "\n",
    "`14`. Vortex Indicator\n",
    "The Vortex Indicator consists of two oscillating lines: one to capture the upward trend movement and the other one to identify the downward price movement.\n",
    "\n",
    "`15`. Ease of Movement\n",
    "\n",
    "`16`. Commodity Channel Index (CCI)\n",
    "A momentum-based oscillator used to identify an asset that is reaching a condition of being oversold or overbought.\n",
    "\n",
    "`17`. On-Balance Volume (OBV)\n",
    "A momentum-based indicator using volume flow to predict changes in asset price. First developed by Joseph Granville, he believed that the volume was the major force behind markets. As explained in his 1963 book Granville's New Key to Stock Market Profits, when volume increases strongly without a signficant change in the price of an asset, the price will eventually jump upwards or downwards. Granville theorised that volume precedes price. \n",
    "\n",
    "__How to interpret.__\n",
    "\n",
    "We should expect prices to increase if OBV is rising while prices are either flat or moving down, and vice versa."
   ]
  },
  {
   "cell_type": "markdown",
   "metadata": {},
   "source": [
    "# References\n",
    "\n",
    "https://www.investopedia.com/terms/r/rsi.asp\n",
    "https://www.investopedia.com/terms/m/macd.asp\n",
    "https://altfins.com/knowledge-base/macd-line-and-macd-signal-line/\n",
    "https://www.investopedia.com/terms/s/stochasticoscillator.asp\n",
    "https://www.investopedia.com/terms/a/accumulationdistribution.asp\n",
    "https://www.investopedia.com/terms/a/atr.asp\n",
    "https://www.investopedia.com/articles/active-trading/072115/understand-vortex-indicator-trading-strategies.asp\n",
    "https://www.investopedia.com/terms/e/easeofmovement.asp\n",
    "https://www.investopedia.com/terms/c/commoditychannelindex.asp\n",
    "https://www.investopedia.com/terms/o/onbalancevolume.asp\n"
   ]
  },
  {
   "cell_type": "markdown",
   "metadata": {},
   "source": [
    "The 5-, 10-, 20- and 50-day moving averages are frequently utilized to identify near-term trend changes."
   ]
  },
  {
   "cell_type": "code",
   "execution_count": 3,
   "metadata": {},
   "outputs": [],
   "source": [
    "# Daily return in percentage\n",
    "df['DAILY_RETURN'] = ti.daily_return(df['Adj Close'])\n",
    "\n",
    "# Rate of change in volume\n",
    "df['ROC'] = ti.rate_of_change(df['Volume'])\n",
    "\n",
    "# Price difference\n",
    "df['DIFF'] = ti.price_diff(df['Adj Close'])\n",
    "\n",
    "# Z-score\n",
    "# df['ZSCORE'] = scipy.stats.zscore(df['Adj Close'])\n",
    "\n",
    "# Bollinger Bands\n",
    "df[['BB_MID', 'BB_UPPER', 'BB_LOWER']] = ti.bollinger_bands(df['Adj Close'])\n",
    "\n",
    "# Relative Strengh Index (RSI)\n",
    "df['RSI'] = ti.RSI(df['Adj Close'])\n",
    "\n",
    "# Moving Average Convergence Divergence (MACD)\n",
    "df[['MACD', 'MACD_signal']] = ti.MACD(df['Adj Close'])\n",
    "\n",
    "# Stochastic Oscillator\n",
    "df['STOCH'] = ti.stochastic_oscillator(df['Adj Close'], df['High'], df['Low'])\n",
    "\n",
    "# Accumulation/Distribution\n",
    "df['ADI'] = ti.accumulation_distribution(df['Adj Close'], df['Low'], df['High'], df['Volume'])\n",
    "\n",
    "# Average True Range\n",
    "df['ATR'] = ti.average_true_range(df['High'], df['Low'], df['Adj Close'])\n",
    "\n",
    "# Vortex\n",
    "df[['VI_up', 'VI_down']] = ti.vortex(df['High'], df['Low'], df['Adj Close'])\n",
    "\n",
    "# Ease of Movement\n",
    "df['EMV'] = ti.ease_of_movement(df['High'], df['Low'], df['Volume'])\n",
    "\n",
    "# Commodity Channel Index\n",
    "df['CCI'] = ti.commodity_channel(df['High'], df['Low'], df['Adj Close'])\n",
    "\n",
    "# On-Balance Volume\n",
    "df['OBV'] = ti.on_balance_volume(df['Adj Close'], df['Volume'])\n"
   ]
  },
  {
   "cell_type": "markdown",
   "metadata": {},
   "source": [
    "Visualise daily return, rate of change and z-scores"
   ]
  },
  {
   "cell_type": "code",
   "execution_count": null,
   "metadata": {},
   "outputs": [],
   "source": [
    "plt.figure(figsize=(20,10))\n",
    "\n",
    "sns.histplot(df['DAILY_RETURN'], kde=True)\n",
    "plt.show()\n",
    "\n",
    "sns.histplot(df['ROC'], kde=True)\n",
    "plt.show()\n",
    "\n",
    "# sns.histplot(df['ZSCORE'], kde=True)\n",
    "# plt.show()\n"
   ]
  },
  {
   "cell_type": "markdown",
   "metadata": {},
   "source": [
    "## Stock movement\n",
    "Label column:\n",
    "\n",
    "1 if daily return is > threshold\n",
    "\n",
    "-1 if daily return is < threshold\n"
   ]
  },
  {
   "cell_type": "code",
   "execution_count": 4,
   "metadata": {},
   "outputs": [],
   "source": [
    "threshold = 0\n",
    "\n",
    "df.loc[:, 'BUY_SIGNAL'] = 0\n",
    "df.loc[:, 'SELL_SIGNAL'] = 0\n",
    "\n",
    "df.loc[df['DAILY_RETURN'].shift(-1) > threshold, 'BUY_SIGNAL'] = 1\n",
    "df.loc[df['DAILY_RETURN'].shift(-1) < -threshold, 'SELL_SIGNAL'] = 1\n",
    "\n",
    "# Drop NaN values\n",
    "df = df.dropna()"
   ]
  },
  {
   "cell_type": "code",
   "execution_count": null,
   "metadata": {},
   "outputs": [],
   "source": [
    "df[['DAILY_RETURN', 'BUY_SIGNAL']]"
   ]
  },
  {
   "cell_type": "code",
   "execution_count": null,
   "metadata": {},
   "outputs": [],
   "source": [
    "# Splitting into train and test dataset\n",
    "X_train, X_test, y_train, y_test = train_test_split(df.iloc[:, 6:23], df['BUY_SIGNAL'], test_size=.3, shuffle=False)\n"
   ]
  },
  {
   "cell_type": "code",
   "execution_count": null,
   "metadata": {},
   "outputs": [],
   "source": [
    "plt.figure(figsize=(20,15))\n",
    "\n",
    "plt.plot(X_train.index, X_train['DAILY_RETURN'], linewidth=1, label='Train data')\n",
    "plt.plot(X_test.index, X_test['DAILY_RETURN'], linewidth=1, label='Data to predict')\n",
    "plt.axhline(y=.0025, linewidth=1, color='g', linestyle='--', label='Threshold for buy signal')\n",
    "plt.axhline(y=-.0025, linewidth=1, color='b', linestyle='--', label='Threshold for sell signal')\n",
    "\n",
    "plt.legend()\n",
    "plt.show()\n"
   ]
  },
  {
   "cell_type": "markdown",
   "metadata": {},
   "source": [
    "## KNN"
   ]
  },
  {
   "cell_type": "code",
   "execution_count": null,
   "metadata": {},
   "outputs": [],
   "source": [
    "# Initialise model\n",
    "knn = KNeighborsClassifier(n_neighbors=5)\n",
    "knn.fit(X_train, y_train)\n",
    "\n",
    "buy_pred = knn.predict(X_test)\n",
    "\n",
    "print(accuracy_score(y_test, buy_pred))\n",
    "print(classification_report(y_test, buy_pred))"
   ]
  },
  {
   "cell_type": "markdown",
   "metadata": {},
   "source": [
    "## Random Forest\n"
   ]
  },
  {
   "cell_type": "code",
   "execution_count": null,
   "metadata": {},
   "outputs": [],
   "source": [
    "rf = RandomForestClassifier()\n",
    "rf.fit(X_train, y_train)\n",
    "\n",
    "buy_pred_rf = rf.predict(X_test)\n",
    "\n",
    "print(accuracy_score(y_test, buy_pred_rf))\n",
    "print(classification_report(y_test, buy_pred_rf))"
   ]
  },
  {
   "cell_type": "markdown",
   "metadata": {},
   "source": [
    "## XGBClassifier"
   ]
  },
  {
   "cell_type": "code",
   "execution_count": null,
   "metadata": {},
   "outputs": [],
   "source": [
    "xgb_classifier = xgb.XGBClassifier()\n",
    "xgb_classifier.fit(X_train, y_train)\n",
    "\n",
    "buy_pred = rf.predict(X_test)\n",
    "\n",
    "print(accuracy_score(y_test, buy_pred))\n",
    "print(classification_report(y_test, buy_pred))"
   ]
  },
  {
   "cell_type": "code",
   "execution_count": null,
   "metadata": {},
   "outputs": [],
   "source": []
  },
  {
   "cell_type": "code",
   "execution_count": null,
   "metadata": {},
   "outputs": [],
   "source": [
    "plt.style.use('fivethirtyeight')\n",
    "\n",
    "# Bollinger bands\n",
    "plt.figure(figsize=(20,15))\n",
    "plt.plot(df['Adj Close'], label='Adj Close', linewidth=1)\n",
    "plt.fill_between(df['Adj Close'].index, df['BB_UPPER'], df['BB_LOWER'], alpha=.2)\n",
    "plt.plot(df['BB_UPPER'], label='Upper band', linestyle='dashed', linewidth=2)\n",
    "plt.plot(df['BB_LOWER'], label='Lower band', linestyle='dashed', linewidth=2)\n",
    "plt.plot(df['BB_MID'], label='20-day simple moving average', linewidth=2)\n",
    "plt.title('Bollinger bands')\n",
    "plt.legend(fontsize=15)\n",
    "\n",
    "plt.show()\n"
   ]
  },
  {
   "cell_type": "code",
   "execution_count": null,
   "metadata": {},
   "outputs": [],
   "source": [
    "# Plotting MACD\n",
    "\n",
    "plt.style.use('ggplot')\n",
    "\n",
    "fig = plt.figure(facecolor = 'white', figsize = (20,10))\n",
    "\n",
    "ax0 = plt.subplot2grid((12,8), (1,0), rowspan=6, colspan=4)\n",
    "ax0.plot(df[['Adj Close','BB_MID']], linewidth=2)\n",
    "ax0.set_facecolor('ghostwhite')\n",
    "ax0.legend(['Adj Close','SMA'],ncol=3, loc = 'upper left', fontsize = 12)\n",
    "plt.title(\"SPY Adj Close and MACD\", fontsize = 20)\n",
    "\n",
    "ax1 = plt.subplot2grid((12,8), (7,0), rowspan=3, colspan=4, sharex = ax0)\n",
    "ax1.plot(df[['MACD', 'MACD_signal']], linewidth=1)\n",
    "ax1.legend(['MACD', 'MACD_signal'], ncol=3, loc = 'lower left', fontsize = 12)\n",
    "ax1.set_facecolor('silver')\n",
    "plt.subplots_adjust(left=.09, bottom=.09, right=1, top=.95, wspace=.20, hspace=0)\n",
    "plt.show()"
   ]
  },
  {
   "cell_type": "code",
   "execution_count": null,
   "metadata": {},
   "outputs": [],
   "source": [
    "# Plotting OBV\n",
    "\n",
    "fig = plt.figure(facecolor = 'white', figsize = (25,15))\n",
    "\n",
    "ax0 = plt.subplot2grid((12,8), (1,0), rowspan=6, colspan=4)\n",
    "ax0.plot(df[['Adj Close','BB_MID']], linewidth=2)\n",
    "ax0.set_facecolor('ghostwhite')\n",
    "ax0.legend(['Adj Close','SMA'],ncol=3, loc = 'upper left', fontsize = 12)\n",
    "plt.title(\"SPY Adj Close and OBV\", fontsize = 15)\n",
    "\n",
    "ax1 = plt.subplot2grid((12,8), (7,0), rowspan=3, colspan=4, sharex = ax0)\n",
    "ax1.plot(df['OBV'], linewidth=1)\n",
    "ax1.legend(['OBV'], ncol=3, loc = 'upper left', fontsize = 12)\n",
    "ax1.set_facecolor('silver')\n",
    "plt.subplots_adjust(left=.09, bottom=.09, right=1, top=.95, wspace=.20, hspace=0)\n",
    "plt.show()"
   ]
  },
  {
   "cell_type": "code",
   "execution_count": null,
   "metadata": {},
   "outputs": [],
   "source": [
    "# Add moving averages for multiple periods\n",
    "for period in [5, 10, 20, 50, 100, 200]:\n",
    "    df['SMA{}'.format(str(period))] = ti.simple_ma(df['Adj Close'], length=period)\n",
    "    df['EMA{}'.format(str(period))] = ti.exp_ma(df['Adj Close'], length=period)\n",
    "    "
   ]
  }
 ],
 "metadata": {
  "kernelspec": {
   "display_name": "Python 3",
   "language": "python",
   "name": "python3"
  },
  "language_info": {
   "codemirror_mode": {
    "name": "ipython",
    "version": 3
   },
   "file_extension": ".py",
   "mimetype": "text/x-python",
   "name": "python",
   "nbconvert_exporter": "python",
   "pygments_lexer": "ipython3",
   "version": "3.8.5"
  }
 },
 "nbformat": 4,
 "nbformat_minor": 4
}
